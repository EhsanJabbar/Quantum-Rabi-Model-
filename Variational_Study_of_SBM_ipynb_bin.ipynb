{
  "cells": [
    {
      "cell_type": "markdown",
      "metadata": {
        "id": "view-in-github",
        "colab_type": "text"
      },
      "source": [
        "<a href=\"https://colab.research.google.com/github/EhsanJabbar/Quantum-Rabi-Model-/blob/main/Variational_Study_of_SBM_ipynb_bin.ipynb\" target=\"_parent\"><img src=\"https://colab.research.google.com/assets/colab-badge.svg\" alt=\"Open In Colab\"/></a>"
      ]
    },
    {
      "cell_type": "code",
      "execution_count": null,
      "metadata": {
        "id": "eU_kzPYdxF7Q"
      },
      "outputs": [],
      "source": [
        "from scipy.linalg import eigh\n",
        "from scipy.optimize import minimize,fmin,fsolve\n",
        "import numpy as np\n",
        "\n"
      ]
    },
    {
      "cell_type": "code",
      "execution_count": null,
      "metadata": {
        "colab": {
          "base_uri": "https://localhost:8080/"
        },
        "id": "hl8bxNu-QHgh",
        "outputId": "e6ab3a6a-a400-42c6-ec26-93636ad9fe65"
      },
      "outputs": [
        {
          "output_type": "execute_result",
          "data": {
            "text/plain": [
              "  message: Optimization terminated successfully.\n",
              "  success: True\n",
              "   status: 0\n",
              "      fun: -99.99999999999517\n",
              "        x: [ 5.986e+00  9.266e-07 -1.000e+01  4.001e+00]\n",
              "      nit: 9\n",
              "      jac: [ 9.537e-07  9.537e-07  3.815e-06  0.000e+00]\n",
              " hess_inv: [[ 6.406e-01 -6.009e-02 -3.396e-01 -1.917e-01]\n",
              "            [-6.009e-02  4.975e-01  1.939e-03  8.978e-02]\n",
              "            [-3.396e-01  1.939e-03  5.098e-01 -1.350e-01]\n",
              "            [-1.917e-01  8.978e-02 -1.350e-01  2.992e-01]]\n",
              "     nfev: 50\n",
              "     njev: 10"
            ]
          },
          "metadata": {},
          "execution_count": 5
        }
      ],
      "source": [
        "from scipy.linalg import eigh\n",
        "from scipy.optimize import minimize,fmin,fsolve\n",
        "import numpy as np\n",
        "\n",
        "Delta = 1.0\n",
        "omega = 1.0\n",
        "g =10\n",
        "\n",
        "def f1(x):\n",
        "    A = x[0]\n",
        "    B = x[1]\n",
        "    a = x[2]\n",
        "    b = x[3]\n",
        "    E = -Delta * A * B * np.exp(-0.5 * (a - b)**2.0) + omega * ((a * A)**2.0 + (b * B)**2.0) + 2.0 * g * (A**2.0 * a - B**2.0 * b)\n",
        "    Eint = E / (A**2.0 + B**2.0)\n",
        "    return Eint\n",
        "\n",
        "initial_guess = np.array([0.1, 0.5, -1, 0.1])\n",
        "\n",
        "res1 = minimize(f1, initial_guess)\n",
        "res1\n"
      ]
    },
    {
      "cell_type": "code",
      "execution_count": null,
      "metadata": {
        "colab": {
          "base_uri": "https://localhost:8080/"
        },
        "id": "pt5N1MlZQHgi",
        "outputId": "20e3cdf9-0b64-47f3-ee98-5f804a19b85a"
      },
      "outputs": [
        {
          "data": {
            "text/plain": [
              "  message: Optimization terminated successfully.\n",
              "  success: True\n",
              "   status: 0\n",
              "      fun: -25.0\n",
              "        x: [ 9.000e-01]\n",
              "      nit: 0\n",
              "      jac: [ 0.000e+00]\n",
              " hess_inv: [[1]]\n",
              "     nfev: 2\n",
              "     njev: 1"
            ]
          },
          "execution_count": 34,
          "metadata": {},
          "output_type": "execute_result"
        }
      ],
      "source": [
        "def f2(x):\n",
        "    E = -g**2/omega - Delta *  (x * np.sqrt(1 - x**2) * np.exp(-2 * (g**2)/(omega**2)))\n",
        "    return E\n",
        "\n",
        "initial_guess = 0.9\n",
        "\n",
        "res2 = minimize(f2, initial_guess)\n",
        "res2"
      ]
    },
    {
      "cell_type": "code",
      "execution_count": null,
      "metadata": {
        "colab": {
          "base_uri": "https://localhost:8080/"
        },
        "id": "takRK7k6QHgk",
        "outputId": "09806609-e48b-49b8-90bd-6d6af9651082"
      },
      "outputs": [
        {
          "output_type": "stream",
          "name": "stdout",
          "text": [
            "-100.00062657037421\n"
          ]
        }
      ],
      "source": [
        "Delta = 1.0\n",
        "omega = 1.0\n",
        "g = 10\n",
        "sx = np.array([[0,1],[1,0]])\n",
        "sz = np.array([[1,0],[0,-1]])\n",
        "Is = np.eye(2)\n",
        "\n",
        "nb = 500\n",
        "a = np.diag(np.sqrt(np.linspace(1,nb,nb)), 1)\n",
        "ad = a.transpose()\n",
        "Ib = np.eye(nb + 1)\n",
        "\n",
        "H = -Delta / 2 * np.kron(sx, Ib) + omega * np.kron(Is, ad @ a) + g * np.kron(sz, ad + a)\n",
        "\n",
        "val, vec = eigh(H)\n",
        "\n",
        "print(val[0])"
      ]
    },
    {
      "cell_type": "code",
      "execution_count": null,
      "metadata": {
        "id": "hQpm-AyTQHgl",
        "outputId": "b4af122d-b7be-4830-d1c5-2be8a657d90a"
      },
      "outputs": [
        {
          "data": {
            "text/plain": [
              "-5.09160949632798"
            ]
          },
          "execution_count": 39,
          "metadata": {},
          "output_type": "execute_result"
        }
      ],
      "source": [
        "f1(res1)"
      ]
    },
    {
      "cell_type": "code",
      "execution_count": null,
      "metadata": {
        "id": "-HuVR0LLQHgm",
        "outputId": "90f33bc9-c8b0-4686-94fa-ae17a67eb9cb"
      },
      "outputs": [
        {
          "data": {
            "text/plain": [
              "array([-1.67667641])"
            ]
          },
          "execution_count": 40,
          "metadata": {},
          "output_type": "execute_result"
        }
      ],
      "source": [
        "f2(res2)"
      ]
    },
    {
      "cell_type": "code",
      "execution_count": null,
      "metadata": {
        "colab": {
          "base_uri": "https://localhost:8080/",
          "height": 468
        },
        "id": "xOtOQG88QHgn",
        "outputId": "4a1afbd1-561e-45c3-8481-5f851d6be54e"
      },
      "outputs": [
        {
          "name": "stdout",
          "output_type": "stream",
          "text": [
            "minimas [-0.4999999999999274, -0.50500627089849, -0.5201013571292216, -0.5455220628754816, -0.5816918109782397, -0.6292723091497552, -0.6892576321566389, -0.7631470748522908, -0.8532759642001686, -0.9634571620125844, -1.0998978876154828, -1.2698058517171846, -1.4744680577230114, -1.709500008638338, -1.9708194659413232, -2.25586008774861, -2.5630848766097816, -2.891572868027762, -3.240774670942244, -3.610367853713199, -4.00016818373077, -4.410073970685746, -4.84003127969287, -5.290012713093111, -5.760004965320172, -6.250001863413396, -6.760000671918344, -7.290000232787357, -7.840000077452038, -8.410000024775478, -9.000000007613705, -9.610000002246128, -10.240000000635149, -10.89000000017116, -11.560000000041798, -12.250000000007674, -12.95999999999788, -13.689999999995145, -14.439999999992546, -15.209999999993347, -15.999999999991633, -16.80999999999288, -17.63999999998997, -18.48999999998612, -19.3599999999884, -20.249999999989114, -21.15999999998786, -22.08999999998494, -23.039999999984616, -24.009999999981932, -24.99999999998363, -26.00999999997337, -27.039999999977752, -28.089999999974577, -29.15999999995468, -30.249999999976712, -31.359999999969734, -32.48999999994084, -33.639999999988994, -34.809999999996826, -35.999999999998984, -37.209999999998665, -38.439999999997, -39.68999999998767, -40.9599999999739, -42.2499999999998, -43.55999999993968, -44.88999999999985, -46.23999999999988, -47.6099999999991, -48.99999999999973, -50.40999999999981, -51.83999999999959, -53.28999999999976, -54.759999999998946, -56.249999999999424, -57.75999999999966, -59.28999999999982, -60.83999999999889, -62.409999999999776, -63.99999999999919, -65.60999999999679, -67.23999999999798, -68.88999999999962, -70.55999999999963, -72.24999999999474, -73.95999999999903, -75.68999999999632, -77.43999999999275, -79.20999999999442, -80.99999999999856, -82.80999999999851, -84.63999999999723, -86.4899999999993, -88.35999999999773, -90.2499999999995, -92.15999999999727, -94.08999999999685, -96.03999999999748, -98.00999999999921]\n"
          ]
        },
        {
          "data": {
            "image/png": "[encoded data removed]",
            "text/plain": [
              "<Figure size 640x480 with 1 Axes>"
            ]
          },
          "metadata": {},
          "output_type": "display_data"
        }
      ],
      "source": [
        "import matplotlib.pyplot as plt\n",
        "from scipy.linalg import eigh\n",
        "from scipy.optimize import minimize,fmin,fsolve\n",
        "import numpy as np\n",
        "\n",
        "Delta = 1.0\n",
        "omega = 1.0\n",
        "g = 0.0\n",
        "def f1(x):\n",
        "    A = x[0]\n",
        "    B = x[1]\n",
        "    a = x[2]\n",
        "    b = x[3]\n",
        "    E = -Delta * A * B * np.exp(-0.5 * (a - b)**2.0) + omega * ((a * A)**2.0 + (b * B)**2.0) + 2.0 * g * (A**2.0 * a - B**2.0 * b)\n",
        "    Eint = E / (A**2.0 + B**2.0)\n",
        "    return Eint\n",
        "\n",
        "x = []\n",
        "y = []\n",
        "y1 = []\n",
        "x1 = np.linspace(0,10,100)\n",
        "y2 = -x1**2\n",
        "for i in range(100):\n",
        "\n",
        "  initial_guess = np.array([1.0, 1.0, -0.1, 0.1])\n",
        "  res1 = minimize(f1, initial_guess)\n",
        "  g = g + 0.1\n",
        "  sx = np.array([[0,1],[1,0]])\n",
        "  sz = np.array([[1,0],[0,-1]])\n",
        "  Is = np.eye(2)\n",
        "\n",
        "  nb = 100\n",
        "  a = np.diag(np.sqrt(np.linspace(1,nb,nb)), 1)\n",
        "  ad = a.transpose()\n",
        "  Ib = np.eye(nb + 1)\n",
        "\n",
        "  H = -Delta / 2 * np.kron(sx, Ib) + omega * np.kron(Is, ad @ a) + g * np.kron(sz, ad + a)\n",
        "\n",
        "  val, vec = eigh(H)\n",
        "  y.append(res1.fun)\n",
        "  x.append(g)\n",
        "  y1.append(val[0])\n",
        "\n",
        "plt.plot(x1,y2)\n",
        "\n",
        "plt.plot(x,y)\n",
        "plt.plot(x,y, color = \"b\")\n",
        "print(\"minimas\",y)\n",
        "\n",
        "\n"
      ]
    },
    {
      "cell_type": "code",
      "execution_count": null,
      "metadata": {
        "id": "gQ7-XifPQHgn"
      },
      "outputs": [],
      "source": []
    },
    {
      "cell_type": "code",
      "execution_count": null,
      "metadata": {
        "colab": {
          "base_uri": "https://localhost:8080/",
          "height": 529
        },
        "id": "Gyt-s6QdiXcZ",
        "outputId": "037fe20a-4d4d-408b-e524-9f74613e8703"
      },
      "outputs": [
        {
          "data": {
            "image/png": "[encoded data removed]",
            "text/plain": [
              "<Figure size 640x480 with 1 Axes>"
            ]
          },
          "metadata": {},
          "output_type": "display_data"
        },
        {
          "name": "stdout",
          "output_type": "stream",
          "text": [
            "g [0.1, 0.2, 0.30000000000000004, 0.4, 0.5, 0.6, 0.7, 0.7999999999999999, 0.8999999999999999, 0.9999999999999999, 1.0999999999999999, 1.2, 1.3, 1.4000000000000001, 1.5000000000000002, 1.6000000000000003, 1.7000000000000004, 1.8000000000000005, 1.9000000000000006, 2.0000000000000004, 2.1000000000000005, 2.2000000000000006, 2.3000000000000007, 2.400000000000001, 2.500000000000001, 2.600000000000001, 2.700000000000001, 2.800000000000001, 2.9000000000000012, 3.0000000000000013, 3.1000000000000014, 3.2000000000000015, 3.3000000000000016, 3.4000000000000017, 3.5000000000000018, 3.600000000000002, 3.700000000000002, 3.800000000000002, 3.900000000000002, 4.000000000000002, 4.100000000000001, 4.200000000000001, 4.300000000000001, 4.4, 4.5, 4.6, 4.699999999999999, 4.799999999999999, 4.899999999999999, 4.999999999999998, 5.099999999999998, 5.1999999999999975, 5.299999999999997, 5.399999999999997, 5.4999999999999964, 5.599999999999996, 5.699999999999996, 5.799999999999995, 5.899999999999995, 5.999999999999995, 6.099999999999994, 6.199999999999994, 6.299999999999994, 6.399999999999993, 6.499999999999993, 6.5999999999999925, 6.699999999999992, 6.799999999999992, 6.8999999999999915, 6.999999999999991, 7.099999999999991, 7.19999999999999, 7.29999999999999, 7.39999999999999, 7.499999999999989, 7.599999999999989, 7.699999999999989, 7.799999999999988, 7.899999999999988, 7.999999999999988, 8.099999999999987, 8.199999999999987, 8.299999999999986, 8.399999999999986, 8.499999999999986, 8.599999999999985, 8.699999999999985, 8.799999999999985, 8.899999999999984, 8.999999999999984, 9.099999999999984, 9.199999999999983, 9.299999999999983, 9.399999999999983, 9.499999999999982, 9.599999999999982, 9.699999999999982, 9.799999999999981, 9.89999999999998, 9.99999999999998]\n",
            "minimas [-0.4999999999999274, -0.50500627089849, -0.5201013571292216, -0.5455220628754816, -0.5816918109782397, -0.6292723091497552, -0.6892576321566389, -0.7631470748522908, -0.8532759642001686, -0.9634571620125844, -1.0998978876154828, -1.2698058517171846, -1.4744680577230114, -1.709500008638338, -1.9708194659413232, -2.25586008774861, -2.5630848766097816, -2.891572868027762, -3.240774670942244, -3.610367853713199, -4.00016818373077, -4.410073970685746, -4.84003127969287, -5.290012713093111, -5.760004965320172, -6.250001863413396, -6.760000671918344, -7.290000232787357, -7.840000077452038, -8.410000024775478, -9.000000007613705, -9.610000002246128, -10.240000000635149, -10.89000000017116, -11.560000000041798, -12.250000000007674, -12.95999999999788, -13.689999999995145, -14.439999999992546, -15.209999999993347, -15.999999999991633, -16.80999999999288, -17.63999999998997, -18.48999999998612, -19.3599999999884, -20.249999999989114, -21.15999999998786, -22.08999999998494, -23.039999999984616, -24.009999999981932, -24.99999999998363, -26.00999999997337, -27.039999999977752, -28.089999999974577, -29.15999999995468, -30.249999999976712, -31.359999999969734, -32.48999999994084, -33.639999999988994, -34.809999999996826, -35.999999999998984, -37.209999999998665, -38.439999999997, -39.68999999998767, -40.9599999999739, -42.2499999999998, -43.55999999993968, -44.88999999999985, -46.23999999999988, -47.6099999999991, -48.99999999999973, -50.40999999999981, -51.83999999999959, -53.28999999999976, -54.759999999998946, -56.249999999999424, -57.75999999999966, -59.28999999999982, -60.83999999999889, -62.409999999999776, -63.99999999999919, -65.60999999999679, -67.23999999999798, -68.88999999999962, -70.55999999999963, -72.24999999999474, -73.95999999999903, -75.68999999999632, -77.43999999999275, -79.20999999999442, -80.99999999999856, -82.80999999999851, -84.63999999999723, -86.4899999999993, -88.35999999999773, -90.2499999999995, -92.15999999999727, -94.08999999999685, -96.03999999999748, -98.00999999999921]\n"
          ]
        }
      ],
      "source": [
        "import matplotlib.pyplot as plt\n",
        "from scipy.optimize import minimize\n",
        "import numpy as np\n",
        "\n",
        "Delta = 1.0\n",
        "omega = 1.0\n",
        "\n",
        "def f1(x, g):\n",
        "    A = x[0]\n",
        "    B = x[1]\n",
        "    a = x[2]\n",
        "    b = x[3]\n",
        "    E = -Delta * A * B * np.exp(-0.5 * (a - b)**2.0) + omega * ((a * A)**2.0 + (b * B)**2.0) + 2.0 * g * (A**2.0 * a - B**2.0 * b)\n",
        "    Eint = E / (A**2.0 + B**2.0)\n",
        "    return Eint\n",
        "\n",
        "x = []\n",
        "y = []\n",
        "g = 0.0\n",
        "for i in range(100):\n",
        "    initial_guess = np.array([1.0, 1.0, -0.1, 0.1])\n",
        "    res1 = minimize(lambda x: f1(x, g), initial_guess)\n",
        "    g += 0.1\n",
        "    x.append(g)\n",
        "    y.append(res1.fun)\n",
        "\n",
        "plt.plot(x, y)\n",
        "plt.xlabel('g')\n",
        "plt.ylabel('Eint')\n",
        "plt.title('Variation of Eint with g')\n",
        "plt.show()\n",
        "print(\"g\",x)\n",
        "print(\"minimas\",y)"
      ]
    }
  ],
  "metadata": {
    "colab": {
      "provenance": [],
      "include_colab_link": true
    },
    "kernelspec": {
      "display_name": "Python 3 (ipykernel)",
      "language": "python",
      "name": "python3"
    },
    "language_info": {
      "codemirror_mode": {
        "name": "ipython",
        "version": 3
      },
      "file_extension": ".py",
      "mimetype": "text/x-python",
      "name": "python",
      "nbconvert_exporter": "python",
      "pygments_lexer": "ipython3",
      "version": "3.8.18"
    }
  },
  "nbformat": 4,
  "nbformat_minor": 0
}